{
 "cells": [
  {
   "cell_type": "code",
   "execution_count": 1,
   "id": "0253fc87",
   "metadata": {
    "execution": {
     "iopub.execute_input": "2024-09-07T18:46:35.088636Z",
     "iopub.status.busy": "2024-09-07T18:46:35.088152Z",
     "iopub.status.idle": "2024-09-07T18:46:37.930496Z",
     "shell.execute_reply": "2024-09-07T18:46:37.929121Z"
    },
    "papermill": {
     "duration": 2.86266,
     "end_time": "2024-09-07T18:46:37.933416",
     "exception": false,
     "start_time": "2024-09-07T18:46:35.070756",
     "status": "completed"
    },
    "tags": []
   },
   "outputs": [],
   "source": [
    "import numpy as np\n",
    "import pandas as pd\n",
    "import matplotlib.pyplot as plt\n",
    "import seaborn as sns\n",
    "from sklearn.preprocessing import LabelEncoder, StandardScaler\n",
    "from sklearn.cluster import KMeans"
   ]
  },
  {
   "cell_type": "code",
   "execution_count": 2,
   "id": "f5bc9c60",
   "metadata": {
    "execution": {
     "iopub.execute_input": "2024-09-07T18:46:38.031032Z",
     "iopub.status.busy": "2024-09-07T18:46:38.030379Z",
     "iopub.status.idle": "2024-09-07T18:46:38.055152Z",
     "shell.execute_reply": "2024-09-07T18:46:38.053896Z"
    },
    "papermill": {
     "duration": 0.045179,
     "end_time": "2024-09-07T18:46:38.058045",
     "exception": false,
     "start_time": "2024-09-07T18:46:38.012866",
     "status": "completed"
    },
    "tags": []
   },
   "outputs": [],
   "source": [
    "data = pd.read_csv(\"Mall_Customers.csv\")"
   ]
  },
  {
   "cell_type": "code",
   "execution_count": 3,
   "id": "db837a68",
   "metadata": {
    "execution": {
     "iopub.execute_input": "2024-09-07T18:46:38.092660Z",
     "iopub.status.busy": "2024-09-07T18:46:38.091711Z",
     "iopub.status.idle": "2024-09-07T18:46:38.115778Z",
     "shell.execute_reply": "2024-09-07T18:46:38.114557Z"
    },
    "papermill": {
     "duration": 0.044177,
     "end_time": "2024-09-07T18:46:38.118414",
     "exception": false,
     "start_time": "2024-09-07T18:46:38.074237",
     "status": "completed"
    },
    "tags": []
   },
   "outputs": [
    {
     "data": {
      "text/html": [
       "<div>\n",
       "<style scoped>\n",
       "    .dataframe tbody tr th:only-of-type {\n",
       "        vertical-align: middle;\n",
       "    }\n",
       "\n",
       "    .dataframe tbody tr th {\n",
       "        vertical-align: top;\n",
       "    }\n",
       "\n",
       "    .dataframe thead th {\n",
       "        text-align: right;\n",
       "    }\n",
       "</style>\n",
       "<table border=\"1\" class=\"dataframe\">\n",
       "  <thead>\n",
       "    <tr style=\"text-align: right;\">\n",
       "      <th></th>\n",
       "      <th>CustomerID</th>\n",
       "      <th>Gender</th>\n",
       "      <th>Age</th>\n",
       "      <th>Annual Income (k$)</th>\n",
       "      <th>Spending Score (1-100)</th>\n",
       "    </tr>\n",
       "  </thead>\n",
       "  <tbody>\n",
       "    <tr>\n",
       "      <th>0</th>\n",
       "      <td>1</td>\n",
       "      <td>Male</td>\n",
       "      <td>19</td>\n",
       "      <td>15</td>\n",
       "      <td>39</td>\n",
       "    </tr>\n",
       "    <tr>\n",
       "      <th>1</th>\n",
       "      <td>2</td>\n",
       "      <td>Male</td>\n",
       "      <td>21</td>\n",
       "      <td>15</td>\n",
       "      <td>81</td>\n",
       "    </tr>\n",
       "    <tr>\n",
       "      <th>2</th>\n",
       "      <td>3</td>\n",
       "      <td>Female</td>\n",
       "      <td>20</td>\n",
       "      <td>16</td>\n",
       "      <td>6</td>\n",
       "    </tr>\n",
       "    <tr>\n",
       "      <th>3</th>\n",
       "      <td>4</td>\n",
       "      <td>Female</td>\n",
       "      <td>23</td>\n",
       "      <td>16</td>\n",
       "      <td>77</td>\n",
       "    </tr>\n",
       "    <tr>\n",
       "      <th>4</th>\n",
       "      <td>5</td>\n",
       "      <td>Female</td>\n",
       "      <td>31</td>\n",
       "      <td>17</td>\n",
       "      <td>40</td>\n",
       "    </tr>\n",
       "  </tbody>\n",
       "</table>\n",
       "</div>"
      ],
      "text/plain": [
       "   CustomerID  Gender  Age  Annual Income (k$)  Spending Score (1-100)\n",
       "0           1    Male   19                  15                      39\n",
       "1           2    Male   21                  15                      81\n",
       "2           3  Female   20                  16                       6\n",
       "3           4  Female   23                  16                      77\n",
       "4           5  Female   31                  17                      40"
      ]
     },
     "execution_count": 3,
     "metadata": {},
     "output_type": "execute_result"
    }
   ],
   "source": [
    "data.head()"
   ]
  },
  {
   "cell_type": "code",
   "execution_count": 4,
   "id": "c673c62c",
   "metadata": {
    "execution": {
     "iopub.execute_input": "2024-09-07T18:46:38.251295Z",
     "iopub.status.busy": "2024-09-07T18:46:38.250796Z",
     "iopub.status.idle": "2024-09-07T18:46:38.277279Z",
     "shell.execute_reply": "2024-09-07T18:46:38.275770Z"
    },
    "papermill": {
     "duration": 0.04775,
     "end_time": "2024-09-07T18:46:38.280205",
     "exception": false,
     "start_time": "2024-09-07T18:46:38.232455",
     "status": "completed"
    },
    "tags": []
   },
   "outputs": [
    {
     "name": "stdout",
     "output_type": "stream",
     "text": [
      "<class 'pandas.core.frame.DataFrame'>\n",
      "RangeIndex: 200 entries, 0 to 199\n",
      "Data columns (total 5 columns):\n",
      " #   Column                  Non-Null Count  Dtype \n",
      "---  ------                  --------------  ----- \n",
      " 0   CustomerID              200 non-null    int64 \n",
      " 1   Gender                  200 non-null    object\n",
      " 2   Age                     200 non-null    int64 \n",
      " 3   Annual Income (k$)      200 non-null    int64 \n",
      " 4   Spending Score (1-100)  200 non-null    int64 \n",
      "dtypes: int64(4), object(1)\n",
      "memory usage: 7.9+ KB\n"
     ]
    }
   ],
   "source": [
    "data.info()"
   ]
  },
  {
   "cell_type": "code",
   "execution_count": 5,
   "id": "dfddabf2",
   "metadata": {
    "execution": {
     "iopub.execute_input": "2024-09-07T18:46:38.315941Z",
     "iopub.status.busy": "2024-09-07T18:46:38.315472Z",
     "iopub.status.idle": "2024-09-07T18:46:38.344187Z",
     "shell.execute_reply": "2024-09-07T18:46:38.342995Z"
    },
    "papermill": {
     "duration": 0.049624,
     "end_time": "2024-09-07T18:46:38.346792",
     "exception": false,
     "start_time": "2024-09-07T18:46:38.297168",
     "status": "completed"
    },
    "tags": []
   },
   "outputs": [
    {
     "data": {
      "text/html": [
       "<div>\n",
       "<style scoped>\n",
       "    .dataframe tbody tr th:only-of-type {\n",
       "        vertical-align: middle;\n",
       "    }\n",
       "\n",
       "    .dataframe tbody tr th {\n",
       "        vertical-align: top;\n",
       "    }\n",
       "\n",
       "    .dataframe thead th {\n",
       "        text-align: right;\n",
       "    }\n",
       "</style>\n",
       "<table border=\"1\" class=\"dataframe\">\n",
       "  <thead>\n",
       "    <tr style=\"text-align: right;\">\n",
       "      <th></th>\n",
       "      <th>CustomerID</th>\n",
       "      <th>Age</th>\n",
       "      <th>Annual Income (k$)</th>\n",
       "      <th>Spending Score (1-100)</th>\n",
       "    </tr>\n",
       "  </thead>\n",
       "  <tbody>\n",
       "    <tr>\n",
       "      <th>count</th>\n",
       "      <td>200.000000</td>\n",
       "      <td>200.000000</td>\n",
       "      <td>200.000000</td>\n",
       "      <td>200.000000</td>\n",
       "    </tr>\n",
       "    <tr>\n",
       "      <th>mean</th>\n",
       "      <td>100.500000</td>\n",
       "      <td>38.850000</td>\n",
       "      <td>60.560000</td>\n",
       "      <td>50.200000</td>\n",
       "    </tr>\n",
       "    <tr>\n",
       "      <th>std</th>\n",
       "      <td>57.879185</td>\n",
       "      <td>13.969007</td>\n",
       "      <td>26.264721</td>\n",
       "      <td>25.823522</td>\n",
       "    </tr>\n",
       "    <tr>\n",
       "      <th>min</th>\n",
       "      <td>1.000000</td>\n",
       "      <td>18.000000</td>\n",
       "      <td>15.000000</td>\n",
       "      <td>1.000000</td>\n",
       "    </tr>\n",
       "    <tr>\n",
       "      <th>25%</th>\n",
       "      <td>50.750000</td>\n",
       "      <td>28.750000</td>\n",
       "      <td>41.500000</td>\n",
       "      <td>34.750000</td>\n",
       "    </tr>\n",
       "    <tr>\n",
       "      <th>50%</th>\n",
       "      <td>100.500000</td>\n",
       "      <td>36.000000</td>\n",
       "      <td>61.500000</td>\n",
       "      <td>50.000000</td>\n",
       "    </tr>\n",
       "    <tr>\n",
       "      <th>75%</th>\n",
       "      <td>150.250000</td>\n",
       "      <td>49.000000</td>\n",
       "      <td>78.000000</td>\n",
       "      <td>73.000000</td>\n",
       "    </tr>\n",
       "    <tr>\n",
       "      <th>max</th>\n",
       "      <td>200.000000</td>\n",
       "      <td>70.000000</td>\n",
       "      <td>137.000000</td>\n",
       "      <td>99.000000</td>\n",
       "    </tr>\n",
       "  </tbody>\n",
       "</table>\n",
       "</div>"
      ],
      "text/plain": [
       "       CustomerID         Age  Annual Income (k$)  Spending Score (1-100)\n",
       "count  200.000000  200.000000          200.000000              200.000000\n",
       "mean   100.500000   38.850000           60.560000               50.200000\n",
       "std     57.879185   13.969007           26.264721               25.823522\n",
       "min      1.000000   18.000000           15.000000                1.000000\n",
       "25%     50.750000   28.750000           41.500000               34.750000\n",
       "50%    100.500000   36.000000           61.500000               50.000000\n",
       "75%    150.250000   49.000000           78.000000               73.000000\n",
       "max    200.000000   70.000000          137.000000               99.000000"
      ]
     },
     "execution_count": 5,
     "metadata": {},
     "output_type": "execute_result"
    }
   ],
   "source": [
    "data.describe()"
   ]
  },
  {
   "cell_type": "code",
   "execution_count": 6,
   "id": "61b4abcb",
   "metadata": {
    "execution": {
     "iopub.execute_input": "2024-09-07T18:46:38.383046Z",
     "iopub.status.busy": "2024-09-07T18:46:38.382584Z",
     "iopub.status.idle": "2024-09-07T18:46:38.395941Z",
     "shell.execute_reply": "2024-09-07T18:46:38.394822Z"
    },
    "papermill": {
     "duration": 0.034364,
     "end_time": "2024-09-07T18:46:38.398516",
     "exception": false,
     "start_time": "2024-09-07T18:46:38.364152",
     "status": "completed"
    },
    "tags": []
   },
   "outputs": [
    {
     "data": {
      "text/html": [
       "<div>\n",
       "<style scoped>\n",
       "    .dataframe tbody tr th:only-of-type {\n",
       "        vertical-align: middle;\n",
       "    }\n",
       "\n",
       "    .dataframe tbody tr th {\n",
       "        vertical-align: top;\n",
       "    }\n",
       "\n",
       "    .dataframe thead th {\n",
       "        text-align: right;\n",
       "    }\n",
       "</style>\n",
       "<table border=\"1\" class=\"dataframe\">\n",
       "  <thead>\n",
       "    <tr style=\"text-align: right;\">\n",
       "      <th></th>\n",
       "      <th>Gender</th>\n",
       "    </tr>\n",
       "  </thead>\n",
       "  <tbody>\n",
       "    <tr>\n",
       "      <th>count</th>\n",
       "      <td>200</td>\n",
       "    </tr>\n",
       "    <tr>\n",
       "      <th>unique</th>\n",
       "      <td>2</td>\n",
       "    </tr>\n",
       "    <tr>\n",
       "      <th>top</th>\n",
       "      <td>Female</td>\n",
       "    </tr>\n",
       "    <tr>\n",
       "      <th>freq</th>\n",
       "      <td>112</td>\n",
       "    </tr>\n",
       "  </tbody>\n",
       "</table>\n",
       "</div>"
      ],
      "text/plain": [
       "        Gender\n",
       "count      200\n",
       "unique       2\n",
       "top     Female\n",
       "freq       112"
      ]
     },
     "execution_count": 6,
     "metadata": {},
     "output_type": "execute_result"
    }
   ],
   "source": [
    "data.describe(include=\"object\")"
   ]
  },
  {
   "cell_type": "code",
   "execution_count": 7,
   "id": "31faf37d",
   "metadata": {
    "execution": {
     "iopub.execute_input": "2024-09-07T18:46:38.540780Z",
     "iopub.status.busy": "2024-09-07T18:46:38.540343Z",
     "iopub.status.idle": "2024-09-07T18:46:38.545882Z",
     "shell.execute_reply": "2024-09-07T18:46:38.544539Z"
    },
    "papermill": {
     "duration": 0.027116,
     "end_time": "2024-09-07T18:46:38.548663",
     "exception": false,
     "start_time": "2024-09-07T18:46:38.521547",
     "status": "completed"
    },
    "tags": []
   },
   "outputs": [],
   "source": [
    "label=LabelEncoder()"
   ]
  },
  {
   "cell_type": "code",
   "execution_count": 8,
   "id": "09b2b3ef",
   "metadata": {
    "execution": {
     "iopub.execute_input": "2024-09-07T18:46:38.585896Z",
     "iopub.status.busy": "2024-09-07T18:46:38.585474Z",
     "iopub.status.idle": "2024-09-07T18:46:38.591970Z",
     "shell.execute_reply": "2024-09-07T18:46:38.590796Z"
    },
    "papermill": {
     "duration": 0.028041,
     "end_time": "2024-09-07T18:46:38.594667",
     "exception": false,
     "start_time": "2024-09-07T18:46:38.566626",
     "status": "completed"
    },
    "tags": []
   },
   "outputs": [],
   "source": [
    "data.Gender=label.fit_transform(data.Gender)"
   ]
  },
  {
   "cell_type": "code",
   "execution_count": 9,
   "id": "c9f54210",
   "metadata": {
    "execution": {
     "iopub.execute_input": "2024-09-07T18:46:38.631747Z",
     "iopub.status.busy": "2024-09-07T18:46:38.630731Z",
     "iopub.status.idle": "2024-09-07T18:46:38.644285Z",
     "shell.execute_reply": "2024-09-07T18:46:38.643086Z"
    },
    "papermill": {
     "duration": 0.035093,
     "end_time": "2024-09-07T18:46:38.647149",
     "exception": false,
     "start_time": "2024-09-07T18:46:38.612056",
     "status": "completed"
    },
    "tags": []
   },
   "outputs": [
    {
     "data": {
      "text/html": [
       "<div>\n",
       "<style scoped>\n",
       "    .dataframe tbody tr th:only-of-type {\n",
       "        vertical-align: middle;\n",
       "    }\n",
       "\n",
       "    .dataframe tbody tr th {\n",
       "        vertical-align: top;\n",
       "    }\n",
       "\n",
       "    .dataframe thead th {\n",
       "        text-align: right;\n",
       "    }\n",
       "</style>\n",
       "<table border=\"1\" class=\"dataframe\">\n",
       "  <thead>\n",
       "    <tr style=\"text-align: right;\">\n",
       "      <th></th>\n",
       "      <th>Gender</th>\n",
       "    </tr>\n",
       "  </thead>\n",
       "  <tbody>\n",
       "    <tr>\n",
       "      <th>0</th>\n",
       "      <td>1</td>\n",
       "    </tr>\n",
       "    <tr>\n",
       "      <th>1</th>\n",
       "      <td>1</td>\n",
       "    </tr>\n",
       "    <tr>\n",
       "      <th>2</th>\n",
       "      <td>0</td>\n",
       "    </tr>\n",
       "    <tr>\n",
       "      <th>3</th>\n",
       "      <td>0</td>\n",
       "    </tr>\n",
       "    <tr>\n",
       "      <th>4</th>\n",
       "      <td>0</td>\n",
       "    </tr>\n",
       "  </tbody>\n",
       "</table>\n",
       "</div>"
      ],
      "text/plain": [
       "   Gender\n",
       "0       1\n",
       "1       1\n",
       "2       0\n",
       "3       0\n",
       "4       0"
      ]
     },
     "execution_count": 9,
     "metadata": {},
     "output_type": "execute_result"
    }
   ],
   "source": [
    "data[['Gender']].head()"
   ]
  },
  {
   "cell_type": "code",
   "execution_count": 10,
   "id": "7846ad41",
   "metadata": {
    "execution": {
     "iopub.execute_input": "2024-09-07T18:46:38.754929Z",
     "iopub.status.busy": "2024-09-07T18:46:38.754502Z",
     "iopub.status.idle": "2024-09-07T18:46:38.759810Z",
     "shell.execute_reply": "2024-09-07T18:46:38.758575Z"
    },
    "papermill": {
     "duration": 0.027041,
     "end_time": "2024-09-07T18:46:38.762508",
     "exception": false,
     "start_time": "2024-09-07T18:46:38.735467",
     "status": "completed"
    },
    "tags": []
   },
   "outputs": [],
   "source": [
    "standard=StandardScaler()"
   ]
  },
  {
   "cell_type": "code",
   "execution_count": 11,
   "id": "0763e9c0",
   "metadata": {},
   "outputs": [
    {
     "name": "stdout",
     "output_type": "stream",
     "text": [
      "CustomerID                0\n",
      "Gender                    0\n",
      "Age                       0\n",
      "Annual Income (k$)        0\n",
      "Spending Score (1-100)    0\n",
      "dtype: int64\n"
     ]
    }
   ],
   "source": [
    "print(data.isnull().sum())  \n"
   ]
  },
  {
   "cell_type": "code",
   "execution_count": 12,
   "id": "b0073f21",
   "metadata": {
    "execution": {
     "iopub.execute_input": "2024-09-07T18:46:38.836392Z",
     "iopub.status.busy": "2024-09-07T18:46:38.835911Z",
     "iopub.status.idle": "2024-09-07T18:46:38.841918Z",
     "shell.execute_reply": "2024-09-07T18:46:38.840733Z"
    },
    "papermill": {
     "duration": 0.02774,
     "end_time": "2024-09-07T18:46:38.844356",
     "exception": false,
     "start_time": "2024-09-07T18:46:38.816616",
     "status": "completed"
    },
    "tags": []
   },
   "outputs": [],
   "source": [
    "data_new=data.copy()"
   ]
  },
  {
   "cell_type": "code",
   "execution_count": 13,
   "id": "9fed5a8c",
   "metadata": {
    "execution": {
     "iopub.execute_input": "2024-09-07T18:46:38.881831Z",
     "iopub.status.busy": "2024-09-07T18:46:38.880805Z",
     "iopub.status.idle": "2024-09-07T18:46:38.893086Z",
     "shell.execute_reply": "2024-09-07T18:46:38.892027Z"
    },
    "papermill": {
     "duration": 0.033907,
     "end_time": "2024-09-07T18:46:38.895732",
     "exception": false,
     "start_time": "2024-09-07T18:46:38.861825",
     "status": "completed"
    },
    "tags": []
   },
   "outputs": [],
   "source": [
    "data_new[['Age' ,\"Annual Income (k$)\" , \"Spending Score (1-100)\"]]=standard.fit_transform(data_new[['Age' ,\"Annual Income (k$)\" , \"Spending Score (1-100)\"]])"
   ]
  },
  {
   "cell_type": "code",
   "execution_count": 14,
   "id": "259c1348",
   "metadata": {
    "execution": {
     "iopub.execute_input": "2024-09-07T18:46:38.933326Z",
     "iopub.status.busy": "2024-09-07T18:46:38.932843Z",
     "iopub.status.idle": "2024-09-07T18:46:38.946556Z",
     "shell.execute_reply": "2024-09-07T18:46:38.945306Z"
    },
    "papermill": {
     "duration": 0.035194,
     "end_time": "2024-09-07T18:46:38.949008",
     "exception": false,
     "start_time": "2024-09-07T18:46:38.913814",
     "status": "completed"
    },
    "tags": []
   },
   "outputs": [
    {
     "data": {
      "text/html": [
       "<div>\n",
       "<style scoped>\n",
       "    .dataframe tbody tr th:only-of-type {\n",
       "        vertical-align: middle;\n",
       "    }\n",
       "\n",
       "    .dataframe tbody tr th {\n",
       "        vertical-align: top;\n",
       "    }\n",
       "\n",
       "    .dataframe thead th {\n",
       "        text-align: right;\n",
       "    }\n",
       "</style>\n",
       "<table border=\"1\" class=\"dataframe\">\n",
       "  <thead>\n",
       "    <tr style=\"text-align: right;\">\n",
       "      <th></th>\n",
       "      <th>CustomerID</th>\n",
       "      <th>Gender</th>\n",
       "      <th>Age</th>\n",
       "      <th>Annual Income (k$)</th>\n",
       "      <th>Spending Score (1-100)</th>\n",
       "    </tr>\n",
       "  </thead>\n",
       "  <tbody>\n",
       "    <tr>\n",
       "      <th>0</th>\n",
       "      <td>1</td>\n",
       "      <td>1</td>\n",
       "      <td>-1.424569</td>\n",
       "      <td>-1.738999</td>\n",
       "      <td>-0.434801</td>\n",
       "    </tr>\n",
       "    <tr>\n",
       "      <th>1</th>\n",
       "      <td>2</td>\n",
       "      <td>1</td>\n",
       "      <td>-1.281035</td>\n",
       "      <td>-1.738999</td>\n",
       "      <td>1.195704</td>\n",
       "    </tr>\n",
       "    <tr>\n",
       "      <th>2</th>\n",
       "      <td>3</td>\n",
       "      <td>0</td>\n",
       "      <td>-1.352802</td>\n",
       "      <td>-1.700830</td>\n",
       "      <td>-1.715913</td>\n",
       "    </tr>\n",
       "    <tr>\n",
       "      <th>3</th>\n",
       "      <td>4</td>\n",
       "      <td>0</td>\n",
       "      <td>-1.137502</td>\n",
       "      <td>-1.700830</td>\n",
       "      <td>1.040418</td>\n",
       "    </tr>\n",
       "    <tr>\n",
       "      <th>4</th>\n",
       "      <td>5</td>\n",
       "      <td>0</td>\n",
       "      <td>-0.563369</td>\n",
       "      <td>-1.662660</td>\n",
       "      <td>-0.395980</td>\n",
       "    </tr>\n",
       "  </tbody>\n",
       "</table>\n",
       "</div>"
      ],
      "text/plain": [
       "   CustomerID  Gender       Age  Annual Income (k$)  Spending Score (1-100)\n",
       "0           1       1 -1.424569           -1.738999               -0.434801\n",
       "1           2       1 -1.281035           -1.738999                1.195704\n",
       "2           3       0 -1.352802           -1.700830               -1.715913\n",
       "3           4       0 -1.137502           -1.700830                1.040418\n",
       "4           5       0 -0.563369           -1.662660               -0.395980"
      ]
     },
     "execution_count": 14,
     "metadata": {},
     "output_type": "execute_result"
    }
   ],
   "source": [
    "data_new.head()"
   ]
  },
  {
   "cell_type": "code",
   "execution_count": 15,
   "id": "729f3469",
   "metadata": {
    "execution": {
     "iopub.execute_input": "2024-09-07T18:46:39.058822Z",
     "iopub.status.busy": "2024-09-07T18:46:39.058354Z",
     "iopub.status.idle": "2024-09-07T18:46:39.064560Z",
     "shell.execute_reply": "2024-09-07T18:46:39.063213Z"
    },
    "papermill": {
     "duration": 0.027951,
     "end_time": "2024-09-07T18:46:39.067275",
     "exception": false,
     "start_time": "2024-09-07T18:46:39.039324",
     "status": "completed"
    },
    "tags": []
   },
   "outputs": [],
   "source": [
    "j = []\n",
    "clusteren = []"
   ]
  },
  {
   "cell_type": "code",
   "execution_count": 16,
   "id": "5a3aaaef",
   "metadata": {
    "execution": {
     "iopub.execute_input": "2024-09-07T18:46:39.105369Z",
     "iopub.status.busy": "2024-09-07T18:46:39.104886Z",
     "iopub.status.idle": "2024-09-07T18:46:39.440434Z",
     "shell.execute_reply": "2024-09-07T18:46:39.439376Z"
    },
    "papermill": {
     "duration": 0.35767,
     "end_time": "2024-09-07T18:46:39.443312",
     "exception": false,
     "start_time": "2024-09-07T18:46:39.085642",
     "status": "completed"
    },
    "tags": []
   },
   "outputs": [
    {
     "name": "stderr",
     "output_type": "stream",
     "text": [
      "C:\\Users\\amina\\anaconda3\\lib\\site-packages\\sklearn\\cluster\\_kmeans.py:1429: UserWarning: KMeans is known to have a memory leak on Windows with MKL, when there are less chunks than available threads. You can avoid it by setting the environment variable OMP_NUM_THREADS=1.\n",
      "  warnings.warn(\n",
      "C:\\Users\\amina\\anaconda3\\lib\\site-packages\\sklearn\\cluster\\_kmeans.py:1429: UserWarning: KMeans is known to have a memory leak on Windows with MKL, when there are less chunks than available threads. You can avoid it by setting the environment variable OMP_NUM_THREADS=1.\n",
      "  warnings.warn(\n",
      "C:\\Users\\amina\\anaconda3\\lib\\site-packages\\sklearn\\cluster\\_kmeans.py:1429: UserWarning: KMeans is known to have a memory leak on Windows with MKL, when there are less chunks than available threads. You can avoid it by setting the environment variable OMP_NUM_THREADS=1.\n",
      "  warnings.warn(\n",
      "C:\\Users\\amina\\anaconda3\\lib\\site-packages\\sklearn\\cluster\\_kmeans.py:1429: UserWarning: KMeans is known to have a memory leak on Windows with MKL, when there are less chunks than available threads. You can avoid it by setting the environment variable OMP_NUM_THREADS=1.\n",
      "  warnings.warn(\n",
      "C:\\Users\\amina\\anaconda3\\lib\\site-packages\\sklearn\\cluster\\_kmeans.py:1429: UserWarning: KMeans is known to have a memory leak on Windows with MKL, when there are less chunks than available threads. You can avoid it by setting the environment variable OMP_NUM_THREADS=1.\n",
      "  warnings.warn(\n",
      "C:\\Users\\amina\\anaconda3\\lib\\site-packages\\sklearn\\cluster\\_kmeans.py:1429: UserWarning: KMeans is known to have a memory leak on Windows with MKL, when there are less chunks than available threads. You can avoid it by setting the environment variable OMP_NUM_THREADS=1.\n",
      "  warnings.warn(\n",
      "C:\\Users\\amina\\anaconda3\\lib\\site-packages\\sklearn\\cluster\\_kmeans.py:1429: UserWarning: KMeans is known to have a memory leak on Windows with MKL, when there are less chunks than available threads. You can avoid it by setting the environment variable OMP_NUM_THREADS=1.\n",
      "  warnings.warn(\n",
      "C:\\Users\\amina\\anaconda3\\lib\\site-packages\\sklearn\\cluster\\_kmeans.py:1429: UserWarning: KMeans is known to have a memory leak on Windows with MKL, when there are less chunks than available threads. You can avoid it by setting the environment variable OMP_NUM_THREADS=1.\n",
      "  warnings.warn(\n",
      "C:\\Users\\amina\\anaconda3\\lib\\site-packages\\sklearn\\cluster\\_kmeans.py:1429: UserWarning: KMeans is known to have a memory leak on Windows with MKL, when there are less chunks than available threads. You can avoid it by setting the environment variable OMP_NUM_THREADS=1.\n",
      "  warnings.warn(\n",
      "C:\\Users\\amina\\anaconda3\\lib\\site-packages\\sklearn\\cluster\\_kmeans.py:1429: UserWarning: KMeans is known to have a memory leak on Windows with MKL, when there are less chunks than available threads. You can avoid it by setting the environment variable OMP_NUM_THREADS=1.\n",
      "  warnings.warn(\n"
     ]
    }
   ],
   "source": [
    "for i in range(2, 12):\n",
    "    model = KMeans(n_clusters=i)\n",
    "    model.fit(data_new)\n",
    "    j.append(model.inertia_)\n",
    "    clusteren.append(i)\n"
   ]
  },
  {
   "cell_type": "code",
   "execution_count": 17,
   "id": "a27d309d",
   "metadata": {
    "execution": {
     "iopub.execute_input": "2024-09-07T18:46:39.485209Z",
     "iopub.status.busy": "2024-09-07T18:46:39.484707Z",
     "iopub.status.idle": "2024-09-07T18:46:39.858378Z",
     "shell.execute_reply": "2024-09-07T18:46:39.857289Z"
    },
    "papermill": {
     "duration": 0.398415,
     "end_time": "2024-09-07T18:46:39.861345",
     "exception": false,
     "start_time": "2024-09-07T18:46:39.462930",
     "status": "completed"
    },
    "tags": []
   },
   "outputs": [
    {
     "data": {
      "text/plain": [
       "Text(0, 0.5, 'Error')"
      ]
     },
     "execution_count": 17,
     "metadata": {},
     "output_type": "execute_result"
    },
    {
     "data": {
      "image/png": "[encoded data removed]",
      "text/plain": [
       "<Figure size 640x480 with 1 Axes>"
      ]
     },
     "metadata": {},
     "output_type": "display_data"
    }
   ],
   "source": [
    "plt.plot(clusteren ,j, marker='*')\n",
    "plt.title(\"find best number of KMeans\")\n",
    "plt.xlabel(\"count k_means\")\n",
    "plt.ylabel(\"Error\")"
   ]
  },
  {
   "cell_type": "code",
   "execution_count": 18,
   "id": "b5c30ff9",
   "metadata": {
    "execution": {
     "iopub.execute_input": "2024-09-07T18:46:39.996388Z",
     "iopub.status.busy": "2024-09-07T18:46:39.995933Z",
     "iopub.status.idle": "2024-09-07T18:46:40.001489Z",
     "shell.execute_reply": "2024-09-07T18:46:40.000110Z"
    },
    "papermill": {
     "duration": 0.082367,
     "end_time": "2024-09-07T18:46:40.003962",
     "exception": false,
     "start_time": "2024-09-07T18:46:39.921595",
     "status": "completed"
    },
    "tags": []
   },
   "outputs": [],
   "source": [
    "model=KMeans(n_clusters=4)"
   ]
  },
  {
   "cell_type": "code",
   "execution_count": 19,
   "id": "5ecb7a00",
   "metadata": {
    "execution": {
     "iopub.execute_input": "2024-09-07T18:46:40.043862Z",
     "iopub.status.busy": "2024-09-07T18:46:40.043441Z",
     "iopub.status.idle": "2024-09-07T18:46:40.079656Z",
     "shell.execute_reply": "2024-09-07T18:46:40.078476Z"
    },
    "papermill": {
     "duration": 0.05997,
     "end_time": "2024-09-07T18:46:40.082694",
     "exception": false,
     "start_time": "2024-09-07T18:46:40.022724",
     "status": "completed"
    },
    "tags": []
   },
   "outputs": [
    {
     "name": "stderr",
     "output_type": "stream",
     "text": [
      "C:\\Users\\amina\\anaconda3\\lib\\site-packages\\sklearn\\cluster\\_kmeans.py:1429: UserWarning: KMeans is known to have a memory leak on Windows with MKL, when there are less chunks than available threads. You can avoid it by setting the environment variable OMP_NUM_THREADS=1.\n",
      "  warnings.warn(\n"
     ]
    },
    {
     "data": {
      "text/html": [
       "<style>#sk-container-id-1 {\n",
       "  /* Definition of color scheme common for light and dark mode */\n",
       "  --sklearn-color-text: black;\n",
       "  --sklearn-color-line: gray;\n",
       "  /* Definition of color scheme for unfitted estimators */\n",
       "  --sklearn-color-unfitted-level-0: #fff5e6;\n",
       "  --sklearn-color-unfitted-level-1: #f6e4d2;\n",
       "  --sklearn-color-unfitted-level-2: #ffe0b3;\n",
       "  --sklearn-color-unfitted-level-3: chocolate;\n",
       "  /* Definition of color scheme for fitted estimators */\n",
       "  --sklearn-color-fitted-level-0: #f0f8ff;\n",
       "  --sklearn-color-fitted-level-1: #d4ebff;\n",
       "  --sklearn-color-fitted-level-2: #b3dbfd;\n",
       "  --sklearn-color-fitted-level-3: cornflowerblue;\n",
       "\n",
       "  /* Specific color for light theme */\n",
       "  --sklearn-color-text-on-default-background: var(--sg-text-color, var(--theme-code-foreground, var(--jp-content-font-color1, black)));\n",
       "  --sklearn-color-background: var(--sg-background-color, var(--theme-background, var(--jp-layout-color0, white)));\n",
       "  --sklearn-color-border-box: var(--sg-text-color, var(--theme-code-foreground, var(--jp-content-font-color1, black)));\n",
       "  --sklearn-color-icon: #696969;\n",
       "\n",
       "  @media (prefers-color-scheme: dark) {\n",
       "    /* Redefinition of color scheme for dark theme */\n",
       "    --sklearn-color-text-on-default-background: var(--sg-text-color, var(--theme-code-foreground, var(--jp-content-font-color1, white)));\n",
       "    --sklearn-color-background: var(--sg-background-color, var(--theme-background, var(--jp-layout-color0, #111)));\n",
       "    --sklearn-color-border-box: var(--sg-text-color, var(--theme-code-foreground, var(--jp-content-font-color1, white)));\n",
       "    --sklearn-color-icon: #878787;\n",
       "  }\n",
       "}\n",
       "\n",
       "#sk-container-id-1 {\n",
       "  color: var(--sklearn-color-text);\n",
       "}\n",
       "\n",
       "#sk-container-id-1 pre {\n",
       "  padding: 0;\n",
       "}\n",
       "\n",
       "#sk-container-id-1 input.sk-hidden--visually {\n",
       "  border: 0;\n",
       "  clip: rect(1px 1px 1px 1px);\n",
       "  clip: rect(1px, 1px, 1px, 1px);\n",
       "  height: 1px;\n",
       "  margin: -1px;\n",
       "  overflow: hidden;\n",
       "  padding: 0;\n",
       "  position: absolute;\n",
       "  width: 1px;\n",
       "}\n",
       "\n",
       "#sk-container-id-1 div.sk-dashed-wrapped {\n",
       "  border: 1px dashed var(--sklearn-color-line);\n",
       "  margin: 0 0.4em 0.5em 0.4em;\n",
       "  box-sizing: border-box;\n",
       "  padding-bottom: 0.4em;\n",
       "  background-color: var(--sklearn-color-background);\n",
       "}\n",
       "\n",
       "#sk-container-id-1 div.sk-container {\n",
       "  /* jupyter's `normalize.less` sets `[hidden] { display: none; }`\n",
       "     but bootstrap.min.css set `[hidden] { display: none !important; }`\n",
       "     so we also need the `!important` here to be able to override the\n",
       "     default hidden behavior on the sphinx rendered scikit-learn.org.\n",
       "     See: https://github.com/scikit-learn/scikit-learn/issues/21755 */\n",
       "  display: inline-block !important;\n",
       "  position: relative;\n",
       "}\n",
       "\n",
       "#sk-container-id-1 div.sk-text-repr-fallback {\n",
       "  display: none;\n",
       "}\n",
       "\n",
       "div.sk-parallel-item,\n",
       "div.sk-serial,\n",
       "div.sk-item {\n",
       "  /* draw centered vertical line to link estimators */\n",
       "  background-image: linear-gradient(var(--sklearn-color-text-on-default-background), var(--sklearn-color-text-on-default-background));\n",
       "  background-size: 2px 100%;\n",
       "  background-repeat: no-repeat;\n",
       "  background-position: center center;\n",
       "}\n",
       "\n",
       "/* Parallel-specific style estimator block */\n",
       "\n",
       "#sk-container-id-1 div.sk-parallel-item::after {\n",
       "  content: \"\";\n",
       "  width: 100%;\n",
       "  border-bottom: 2px solid var(--sklearn-color-text-on-default-background);\n",
       "  flex-grow: 1;\n",
       "}\n",
       "\n",
       "#sk-container-id-1 div.sk-parallel {\n",
       "  display: flex;\n",
       "  align-items: stretch;\n",
       "  justify-content: center;\n",
       "  background-color: var(--sklearn-color-background);\n",
       "  position: relative;\n",
       "}\n",
       "\n",
       "#sk-container-id-1 div.sk-parallel-item {\n",
       "  display: flex;\n",
       "  flex-direction: column;\n",
       "}\n",
       "\n",
       "#sk-container-id-1 div.sk-parallel-item:first-child::after {\n",
       "  align-self: flex-end;\n",
       "  width: 50%;\n",
       "}\n",
       "\n",
       "#sk-container-id-1 div.sk-parallel-item:last-child::after {\n",
       "  align-self: flex-start;\n",
       "  width: 50%;\n",
       "}\n",
       "\n",
       "#sk-container-id-1 div.sk-parallel-item:only-child::after {\n",
       "  width: 0;\n",
       "}\n",
       "\n",
       "/* Serial-specific style estimator block */\n",
       "\n",
       "#sk-container-id-1 div.sk-serial {\n",
       "  display: flex;\n",
       "  flex-direction: column;\n",
       "  align-items: center;\n",
       "  background-color: var(--sklearn-color-background);\n",
       "  padding-right: 1em;\n",
       "  padding-left: 1em;\n",
       "}\n",
       "\n",
       "\n",
       "/* Toggleable style: style used for estimator/Pipeline/ColumnTransformer box that is\n",
       "clickable and can be expanded/collapsed.\n",
       "- Pipeline and ColumnTransformer use this feature and define the default style\n",
       "- Estimators will overwrite some part of the style using the `sk-estimator` class\n",
       "*/\n",
       "\n",
       "/* Pipeline and ColumnTransformer style (default) */\n",
       "\n",
       "#sk-container-id-1 div.sk-toggleable {\n",
       "  /* Default theme specific background. It is overwritten whether we have a\n",
       "  specific estimator or a Pipeline/ColumnTransformer */\n",
       "  background-color: var(--sklearn-color-background);\n",
       "}\n",
       "\n",
       "/* Toggleable label */\n",
       "#sk-container-id-1 label.sk-toggleable__label {\n",
       "  cursor: pointer;\n",
       "  display: block;\n",
       "  width: 100%;\n",
       "  margin-bottom: 0;\n",
       "  padding: 0.5em;\n",
       "  box-sizing: border-box;\n",
       "  text-align: center;\n",
       "}\n",
       "\n",
       "#sk-container-id-1 label.sk-toggleable__label-arrow:before {\n",
       "  /* Arrow on the left of the label */\n",
       "  content: \"▸\";\n",
       "  float: left;\n",
       "  margin-right: 0.25em;\n",
       "  color: var(--sklearn-color-icon);\n",
       "}\n",
       "\n",
       "#sk-container-id-1 label.sk-toggleable__label-arrow:hover:before {\n",
       "  color: var(--sklearn-color-text);\n",
       "}\n",
       "\n",
       "/* Toggleable content - dropdown */\n",
       "\n",
       "#sk-container-id-1 div.sk-toggleable__content {\n",
       "  max-height: 0;\n",
       "  max-width: 0;\n",
       "  overflow: hidden;\n",
       "  text-align: left;\n",
       "  /* unfitted */\n",
       "  background-color: var(--sklearn-color-unfitted-level-0);\n",
       "}\n",
       "\n",
       "#sk-container-id-1 div.sk-toggleable__content.fitted {\n",
       "  /* fitted */\n",
       "  background-color: var(--sklearn-color-fitted-level-0);\n",
       "}\n",
       "\n",
       "#sk-container-id-1 div.sk-toggleable__content pre {\n",
       "  margin: 0.2em;\n",
       "  border-radius: 0.25em;\n",
       "  color: var(--sklearn-color-text);\n",
       "  /* unfitted */\n",
       "  background-color: var(--sklearn-color-unfitted-level-0);\n",
       "}\n",
       "\n",
       "#sk-container-id-1 div.sk-toggleable__content.fitted pre {\n",
       "  /* unfitted */\n",
       "  background-color: var(--sklearn-color-fitted-level-0);\n",
       "}\n",
       "\n",
       "#sk-container-id-1 input.sk-toggleable__control:checked~div.sk-toggleable__content {\n",
       "  /* Expand drop-down */\n",
       "  max-height: 200px;\n",
       "  max-width: 100%;\n",
       "  overflow: auto;\n",
       "}\n",
       "\n",
       "#sk-container-id-1 input.sk-toggleable__control:checked~label.sk-toggleable__label-arrow:before {\n",
       "  content: \"▾\";\n",
       "}\n",
       "\n",
       "/* Pipeline/ColumnTransformer-specific style */\n",
       "\n",
       "#sk-container-id-1 div.sk-label input.sk-toggleable__control:checked~label.sk-toggleable__label {\n",
       "  color: var(--sklearn-color-text);\n",
       "  background-color: var(--sklearn-color-unfitted-level-2);\n",
       "}\n",
       "\n",
       "#sk-container-id-1 div.sk-label.fitted input.sk-toggleable__control:checked~label.sk-toggleable__label {\n",
       "  background-color: var(--sklearn-color-fitted-level-2);\n",
       "}\n",
       "\n",
       "/* Estimator-specific style */\n",
       "\n",
       "/* Colorize estimator box */\n",
       "#sk-container-id-1 div.sk-estimator input.sk-toggleable__control:checked~label.sk-toggleable__label {\n",
       "  /* unfitted */\n",
       "  background-color: var(--sklearn-color-unfitted-level-2);\n",
       "}\n",
       "\n",
       "#sk-container-id-1 div.sk-estimator.fitted input.sk-toggleable__control:checked~label.sk-toggleable__label {\n",
       "  /* fitted */\n",
       "  background-color: var(--sklearn-color-fitted-level-2);\n",
       "}\n",
       "\n",
       "#sk-container-id-1 div.sk-label label.sk-toggleable__label,\n",
       "#sk-container-id-1 div.sk-label label {\n",
       "  /* The background is the default theme color */\n",
       "  color: var(--sklearn-color-text-on-default-background);\n",
       "}\n",
       "\n",
       "/* On hover, darken the color of the background */\n",
       "#sk-container-id-1 div.sk-label:hover label.sk-toggleable__label {\n",
       "  color: var(--sklearn-color-text);\n",
       "  background-color: var(--sklearn-color-unfitted-level-2);\n",
       "}\n",
       "\n",
       "/* Label box, darken color on hover, fitted */\n",
       "#sk-container-id-1 div.sk-label.fitted:hover label.sk-toggleable__label.fitted {\n",
       "  color: var(--sklearn-color-text);\n",
       "  background-color: var(--sklearn-color-fitted-level-2);\n",
       "}\n",
       "\n",
       "/* Estimator label */\n",
       "\n",
       "#sk-container-id-1 div.sk-label label {\n",
       "  font-family: monospace;\n",
       "  font-weight: bold;\n",
       "  display: inline-block;\n",
       "  line-height: 1.2em;\n",
       "}\n",
       "\n",
       "#sk-container-id-1 div.sk-label-container {\n",
       "  text-align: center;\n",
       "}\n",
       "\n",
       "/* Estimator-specific */\n",
       "#sk-container-id-1 div.sk-estimator {\n",
       "  font-family: monospace;\n",
       "  border: 1px dotted var(--sklearn-color-border-box);\n",
       "  border-radius: 0.25em;\n",
       "  box-sizing: border-box;\n",
       "  margin-bottom: 0.5em;\n",
       "  /* unfitted */\n",
       "  background-color: var(--sklearn-color-unfitted-level-0);\n",
       "}\n",
       "\n",
       "#sk-container-id-1 div.sk-estimator.fitted {\n",
       "  /* fitted */\n",
       "  background-color: var(--sklearn-color-fitted-level-0);\n",
       "}\n",
       "\n",
       "/* on hover */\n",
       "#sk-container-id-1 div.sk-estimator:hover {\n",
       "  /* unfitted */\n",
       "  background-color: var(--sklearn-color-unfitted-level-2);\n",
       "}\n",
       "\n",
       "#sk-container-id-1 div.sk-estimator.fitted:hover {\n",
       "  /* fitted */\n",
       "  background-color: var(--sklearn-color-fitted-level-2);\n",
       "}\n",
       "\n",
       "/* Specification for estimator info (e.g. \"i\" and \"?\") */\n",
       "\n",
       "/* Common style for \"i\" and \"?\" */\n",
       "\n",
       ".sk-estimator-doc-link,\n",
       "a:link.sk-estimator-doc-link,\n",
       "a:visited.sk-estimator-doc-link {\n",
       "  float: right;\n",
       "  font-size: smaller;\n",
       "  line-height: 1em;\n",
       "  font-family: monospace;\n",
       "  background-color: var(--sklearn-color-background);\n",
       "  border-radius: 1em;\n",
       "  height: 1em;\n",
       "  width: 1em;\n",
       "  text-decoration: none !important;\n",
       "  margin-left: 1ex;\n",
       "  /* unfitted */\n",
       "  border: var(--sklearn-color-unfitted-level-1) 1pt solid;\n",
       "  color: var(--sklearn-color-unfitted-level-1);\n",
       "}\n",
       "\n",
       ".sk-estimator-doc-link.fitted,\n",
       "a:link.sk-estimator-doc-link.fitted,\n",
       "a:visited.sk-estimator-doc-link.fitted {\n",
       "  /* fitted */\n",
       "  border: var(--sklearn-color-fitted-level-1) 1pt solid;\n",
       "  color: var(--sklearn-color-fitted-level-1);\n",
       "}\n",
       "\n",
       "/* On hover */\n",
       "div.sk-estimator:hover .sk-estimator-doc-link:hover,\n",
       ".sk-estimator-doc-link:hover,\n",
       "div.sk-label-container:hover .sk-estimator-doc-link:hover,\n",
       ".sk-estimator-doc-link:hover {\n",
       "  /* unfitted */\n",
       "  background-color: var(--sklearn-color-unfitted-level-3);\n",
       "  color: var(--sklearn-color-background);\n",
       "  text-decoration: none;\n",
       "}\n",
       "\n",
       "div.sk-estimator.fitted:hover .sk-estimator-doc-link.fitted:hover,\n",
       ".sk-estimator-doc-link.fitted:hover,\n",
       "div.sk-label-container:hover .sk-estimator-doc-link.fitted:hover,\n",
       ".sk-estimator-doc-link.fitted:hover {\n",
       "  /* fitted */\n",
       "  background-color: var(--sklearn-color-fitted-level-3);\n",
       "  color: var(--sklearn-color-background);\n",
       "  text-decoration: none;\n",
       "}\n",
       "\n",
       "/* Span, style for the box shown on hovering the info icon */\n",
       ".sk-estimator-doc-link span {\n",
       "  display: none;\n",
       "  z-index: 9999;\n",
       "  position: relative;\n",
       "  font-weight: normal;\n",
       "  right: .2ex;\n",
       "  padding: .5ex;\n",
       "  margin: .5ex;\n",
       "  width: min-content;\n",
       "  min-width: 20ex;\n",
       "  max-width: 50ex;\n",
       "  color: var(--sklearn-color-text);\n",
       "  box-shadow: 2pt 2pt 4pt #999;\n",
       "  /* unfitted */\n",
       "  background: var(--sklearn-color-unfitted-level-0);\n",
       "  border: .5pt solid var(--sklearn-color-unfitted-level-3);\n",
       "}\n",
       "\n",
       ".sk-estimator-doc-link.fitted span {\n",
       "  /* fitted */\n",
       "  background: var(--sklearn-color-fitted-level-0);\n",
       "  border: var(--sklearn-color-fitted-level-3);\n",
       "}\n",
       "\n",
       ".sk-estimator-doc-link:hover span {\n",
       "  display: block;\n",
       "}\n",
       "\n",
       "/* \"?\"-specific style due to the `<a>` HTML tag */\n",
       "\n",
       "#sk-container-id-1 a.estimator_doc_link {\n",
       "  float: right;\n",
       "  font-size: 1rem;\n",
       "  line-height: 1em;\n",
       "  font-family: monospace;\n",
       "  background-color: var(--sklearn-color-background);\n",
       "  border-radius: 1rem;\n",
       "  height: 1rem;\n",
       "  width: 1rem;\n",
       "  text-decoration: none;\n",
       "  /* unfitted */\n",
       "  color: var(--sklearn-color-unfitted-level-1);\n",
       "  border: var(--sklearn-color-unfitted-level-1) 1pt solid;\n",
       "}\n",
       "\n",
       "#sk-container-id-1 a.estimator_doc_link.fitted {\n",
       "  /* fitted */\n",
       "  border: var(--sklearn-color-fitted-level-1) 1pt solid;\n",
       "  color: var(--sklearn-color-fitted-level-1);\n",
       "}\n",
       "\n",
       "/* On hover */\n",
       "#sk-container-id-1 a.estimator_doc_link:hover {\n",
       "  /* unfitted */\n",
       "  background-color: var(--sklearn-color-unfitted-level-3);\n",
       "  color: var(--sklearn-color-background);\n",
       "  text-decoration: none;\n",
       "}\n",
       "\n",
       "#sk-container-id-1 a.estimator_doc_link.fitted:hover {\n",
       "  /* fitted */\n",
       "  background-color: var(--sklearn-color-fitted-level-3);\n",
       "}\n",
       "</style><div id=\"sk-container-id-1\" class=\"sk-top-container\"><div class=\"sk-text-repr-fallback\"><pre>KMeans(n_clusters=4)</pre><b>In a Jupyter environment, please rerun this cell to show the HTML representation or trust the notebook. <br />On GitHub, the HTML representation is unable to render, please try loading this page with nbviewer.org.</b></div><div class=\"sk-container\" hidden><div class=\"sk-item\"><div class=\"sk-estimator fitted sk-toggleable\"><input class=\"sk-toggleable__control sk-hidden--visually\" id=\"sk-estimator-id-1\" type=\"checkbox\" checked><label for=\"sk-estimator-id-1\" class=\"sk-toggleable__label fitted sk-toggleable__label-arrow fitted\">&nbsp;&nbsp;KMeans<a class=\"sk-estimator-doc-link fitted\" rel=\"noreferrer\" target=\"_blank\" href=\"https://scikit-learn.org/1.5/modules/generated/sklearn.cluster.KMeans.html\">?<span>Documentation for KMeans</span></a><span class=\"sk-estimator-doc-link fitted\">i<span>Fitted</span></span></label><div class=\"sk-toggleable__content fitted\"><pre>KMeans(n_clusters=4)</pre></div> </div></div></div></div>"
      ],
      "text/plain": [
       "KMeans(n_clusters=4)"
      ]
     },
     "execution_count": 19,
     "metadata": {},
     "output_type": "execute_result"
    }
   ],
   "source": [
    "model.fit(data)"
   ]
  },
  {
   "cell_type": "code",
   "execution_count": 20,
   "id": "2bcee0ae",
   "metadata": {},
   "outputs": [],
   "source": [
    "import os\n",
    "os.environ[\"OMP_NUM_THREADS\"] = \"1\"\n",
    "os.environ[\"MKL_NUM_THREADS\"] = \"1\"\n",
    "os.environ[\"OPENBLAS_NUM_THREADS\"] = \"1\"\n"
   ]
  },
  {
   "cell_type": "code",
   "execution_count": 21,
   "id": "25cd0c90",
   "metadata": {},
   "outputs": [
    {
     "name": "stdout",
     "output_type": "stream",
     "text": [
      "Requirement already satisfied: scikit-learn in c:\\users\\amina\\anaconda3\\lib\\site-packages (1.5.2)\n",
      "Requirement already satisfied: threadpoolctl in c:\\users\\amina\\anaconda3\\lib\\site-packages (3.5.0)\n",
      "Requirement already satisfied: scipy>=1.6.0 in c:\\users\\amina\\anaconda3\\lib\\site-packages (from scikit-learn) (1.9.1)\n",
      "Requirement already satisfied: numpy>=1.19.5 in c:\\users\\amina\\anaconda3\\lib\\site-packages (from scikit-learn) (1.24.4)\n",
      "Requirement already satisfied: joblib>=1.2.0 in c:\\users\\amina\\anaconda3\\lib\\site-packages (from scikit-learn) (1.4.2)\n"
     ]
    }
   ],
   "source": [
    "!pip install --upgrade scikit-learn threadpoolctl"
   ]
  },
  {
   "cell_type": "code",
   "execution_count": 22,
   "id": "438e803f",
   "metadata": {
    "execution": {
     "iopub.execute_input": "2024-09-07T18:46:40.130821Z",
     "iopub.status.busy": "2024-09-07T18:46:40.129935Z",
     "iopub.status.idle": "2024-09-07T18:46:40.140991Z",
     "shell.execute_reply": "2024-09-07T18:46:40.139530Z"
    },
    "papermill": {
     "duration": 0.041807,
     "end_time": "2024-09-07T18:46:40.144900",
     "exception": false,
     "start_time": "2024-09-07T18:46:40.103093",
     "status": "completed"
    },
    "tags": []
   },
   "outputs": [],
   "source": [
    "predict = model.predict(data)"
   ]
  },
  {
   "cell_type": "code",
   "execution_count": 23,
   "id": "b5c1bd8e",
   "metadata": {
    "execution": {
     "iopub.execute_input": "2024-09-07T18:46:40.194800Z",
     "iopub.status.busy": "2024-09-07T18:46:40.193972Z",
     "iopub.status.idle": "2024-09-07T18:46:40.200469Z",
     "shell.execute_reply": "2024-09-07T18:46:40.199288Z"
    },
    "papermill": {
     "duration": 0.030963,
     "end_time": "2024-09-07T18:46:40.202998",
     "exception": false,
     "start_time": "2024-09-07T18:46:40.172035",
     "status": "completed"
    },
    "tags": []
   },
   "outputs": [],
   "source": [
    "data['predicted_label']=predict"
   ]
  },
  {
   "cell_type": "code",
   "execution_count": 24,
   "id": "c05aa742",
   "metadata": {
    "execution": {
     "iopub.execute_input": "2024-09-07T18:46:40.251967Z",
     "iopub.status.busy": "2024-09-07T18:46:40.251409Z",
     "iopub.status.idle": "2024-09-07T18:46:40.261588Z",
     "shell.execute_reply": "2024-09-07T18:46:40.260340Z"
    },
    "papermill": {
     "duration": 0.036425,
     "end_time": "2024-09-07T18:46:40.265064",
     "exception": false,
     "start_time": "2024-09-07T18:46:40.228639",
     "status": "completed"
    },
    "tags": []
   },
   "outputs": [
    {
     "data": {
      "text/plain": [
       "array([0, 2, 1, 3])"
      ]
     },
     "execution_count": 24,
     "metadata": {},
     "output_type": "execute_result"
    }
   ],
   "source": [
    "data['predicted_label'].unique()"
   ]
  },
  {
   "cell_type": "code",
   "execution_count": 25,
   "id": "1876b8f5",
   "metadata": {
    "execution": {
     "iopub.execute_input": "2024-09-07T18:46:40.312920Z",
     "iopub.status.busy": "2024-09-07T18:46:40.311858Z",
     "iopub.status.idle": "2024-09-07T18:46:40.324093Z",
     "shell.execute_reply": "2024-09-07T18:46:40.322701Z"
    },
    "papermill": {
     "duration": 0.042369,
     "end_time": "2024-09-07T18:46:40.328275",
     "exception": false,
     "start_time": "2024-09-07T18:46:40.285906",
     "status": "completed"
    },
    "tags": []
   },
   "outputs": [],
   "source": [
    "df0 = data[data['predicted_label'] == 0]  \n",
    "df1 = data[data['predicted_label'] == 1]  \n",
    "df2 = data[data['predicted_label'] == 2]  \n",
    "df3 = data[data['predicted_label'] == 3]  "
   ]
  },
  {
   "cell_type": "code",
   "execution_count": 26,
   "id": "b992b764",
   "metadata": {
    "execution": {
     "iopub.execute_input": "2024-09-07T18:46:40.386671Z",
     "iopub.status.busy": "2024-09-07T18:46:40.385382Z",
     "iopub.status.idle": "2024-09-07T18:46:40.776913Z",
     "shell.execute_reply": "2024-09-07T18:46:40.775700Z"
    },
    "papermill": {
     "duration": 0.421022,
     "end_time": "2024-09-07T18:46:40.779676",
     "exception": false,
     "start_time": "2024-09-07T18:46:40.358654",
     "status": "completed"
    },
    "tags": []
   },
   "outputs": [
    {
     "data": {
      "image/png": "[encoded data removed]",
      "text/plain": [
       "<Figure size 640x480 with 1 Axes>"
      ]
     },
     "metadata": {},
     "output_type": "display_data"
    }
   ],
   "source": [
    "plt.scatter(df0['Annual Income (k$)'],df0['Spending Score (1-100)'], label=0 )\n",
    "plt.scatter(df1['Annual Income (k$)'],df1['Spending Score (1-100)'] , label=1)\n",
    "plt.scatter(df2['Annual Income (k$)'],df2['Spending Score (1-100)'] , label=2)\n",
    "plt.scatter(df3['Annual Income (k$)'],df3['Spending Score (1-100)'] , label=3)\n",
    "plt.title(\"Clusters K-means best\")\n",
    "plt.xlabel(\"Annual Income (k$)\")\n",
    "plt.ylabel('Spending Score (1-100)')\n",
    "plt.legend()\n",
    "plt.show()"
   ]
  },
  {
   "cell_type": "code",
   "execution_count": 27,
   "id": "944b99b6",
   "metadata": {
    "execution": {
     "iopub.execute_input": "2024-09-07T18:46:40.904244Z",
     "iopub.status.busy": "2024-09-07T18:46:40.903765Z",
     "iopub.status.idle": "2024-09-07T18:46:41.194362Z",
     "shell.execute_reply": "2024-09-07T18:46:41.193075Z"
    },
    "papermill": {
     "duration": 0.314647,
     "end_time": "2024-09-07T18:46:41.196923",
     "exception": false,
     "start_time": "2024-09-07T18:46:40.882276",
     "status": "completed"
    },
    "tags": []
   },
   "outputs": [
    {
     "data": {
      "image/png": "[encoded data removed]",
      "text/plain": [
       "<Figure size 640x480 with 1 Axes>"
      ]
     },
     "metadata": {},
     "output_type": "display_data"
    }
   ],
   "source": [
    "data['predicted_label'].value_counts().plot(kind='bar')\n",
    "plt.title(\"Count of Data Points in Each Cluster\")\n",
    "plt.xlabel(\"Cluster Label\")\n",
    "plt.ylabel(\"Count\")\n",
    "plt.show()"
   ]
  },
  {
   "cell_type": "code",
   "execution_count": 28,
   "id": "ed85dd91",
   "metadata": {
    "execution": {
     "iopub.execute_input": "2024-09-07T18:46:41.240072Z",
     "iopub.status.busy": "2024-09-07T18:46:41.239625Z",
     "iopub.status.idle": "2024-09-07T18:46:41.390303Z",
     "shell.execute_reply": "2024-09-07T18:46:41.388302Z"
    },
    "papermill": {
     "duration": 0.177126,
     "end_time": "2024-09-07T18:46:41.394691",
     "exception": false,
     "start_time": "2024-09-07T18:46:41.217565",
     "status": "completed"
    },
    "tags": []
   },
   "outputs": [
    {
     "data": {
      "text/plain": [
       "<AxesSubplot:ylabel='predicted_label'>"
      ]
     },
     "execution_count": 28,
     "metadata": {},
     "output_type": "execute_result"
    },
    {
     "data": {
      "image/png": "[encoded data removed]",
      "text/plain": [
       "<Figure size 640x480 with 1 Axes>"
      ]
     },
     "metadata": {},
     "output_type": "display_data"
    }
   ],
   "source": [
    "data['predicted_label'].value_counts().plot(kind='pie')"
   ]
  },
  {
   "cell_type": "code",
   "execution_count": 29,
   "id": "528df164",
   "metadata": {
    "execution": {
     "iopub.execute_input": "2024-09-07T18:46:41.472687Z",
     "iopub.status.busy": "2024-09-07T18:46:41.472208Z",
     "iopub.status.idle": "2024-09-07T18:46:41.770540Z",
     "shell.execute_reply": "2024-09-07T18:46:41.769303Z"
    },
    "papermill": {
     "duration": 0.333926,
     "end_time": "2024-09-07T18:46:41.772967",
     "exception": false,
     "start_time": "2024-09-07T18:46:41.439041",
     "status": "completed"
    },
    "tags": []
   },
   "outputs": [
    {
     "data": {
      "text/plain": [
       "<AxesSubplot:xlabel='predicted_label', ylabel='Spending Score (1-100)'>"
      ]
     },
     "execution_count": 29,
     "metadata": {},
     "output_type": "execute_result"
    },
    {
     "data": {
      "image/png": "[encoded data removed]",
      "text/plain": [
       "<Figure size 640x480 with 1 Axes>"
      ]
     },
     "metadata": {},
     "output_type": "display_data"
    }
   ],
   "source": [
    "sns.boxplot(x='predicted_label', y='Spending Score (1-100)', data=data)"
   ]
  },
  {
   "cell_type": "code",
   "execution_count": 30,
   "id": "14781dbb",
   "metadata": {
    "execution": {
     "iopub.execute_input": "2024-09-07T18:46:41.819091Z",
     "iopub.status.busy": "2024-09-07T18:46:41.818620Z",
     "iopub.status.idle": "2024-09-07T18:46:42.141951Z",
     "shell.execute_reply": "2024-09-07T18:46:42.140546Z"
    },
    "papermill": {
     "duration": 0.349677,
     "end_time": "2024-09-07T18:46:42.144850",
     "exception": false,
     "start_time": "2024-09-07T18:46:41.795173",
     "status": "completed"
    },
    "tags": []
   },
   "outputs": [
    {
     "data": {
      "image/png": "[encoded data removed]",
      "text/plain": [
       "<Figure size 640x480 with 1 Axes>"
      ]
     },
     "metadata": {},
     "output_type": "display_data"
    }
   ],
   "source": [
    "sns.histplot(data['Age'],bins=10, kde=True)  \n",
    "plt.title(\"Distribution of Ages\")\n",
    "plt.xlabel(\"Age\")\n",
    "plt.ylabel(\"Frequency\")\n",
    "plt.show()"
   ]
  },
  {
   "cell_type": "code",
   "execution_count": 31,
   "id": "d78d608a",
   "metadata": {
    "execution": {
     "iopub.execute_input": "2024-09-07T18:46:42.240365Z",
     "iopub.status.busy": "2024-09-07T18:46:42.239200Z",
     "iopub.status.idle": "2024-09-07T18:46:42.563956Z",
     "shell.execute_reply": "2024-09-07T18:46:42.562691Z"
    },
    "papermill": {
     "duration": 0.351341,
     "end_time": "2024-09-07T18:46:42.566747",
     "exception": false,
     "start_time": "2024-09-07T18:46:42.215406",
     "status": "completed"
    },
    "tags": []
   },
   "outputs": [
    {
     "data": {
      "text/plain": [
       "<AxesSubplot:xlabel='predicted_label', ylabel='count'>"
      ]
     },
     "execution_count": 31,
     "metadata": {},
     "output_type": "execute_result"
    },
    {
     "data": {
      "image/png": "[encoded data removed]",
      "text/plain": [
       "<Figure size 640x480 with 1 Axes>"
      ]
     },
     "metadata": {},
     "output_type": "display_data"
    }
   ],
   "source": [
    "sns.countplot(x='predicted_label', hue='Gender', data=data)"
   ]
  },
  {
   "cell_type": "code",
   "execution_count": 32,
   "id": "578ab6ee",
   "metadata": {
    "execution": {
     "iopub.execute_input": "2024-09-07T18:46:42.615294Z",
     "iopub.status.busy": "2024-09-07T18:46:42.614338Z",
     "iopub.status.idle": "2024-09-07T18:46:42.853851Z",
     "shell.execute_reply": "2024-09-07T18:46:42.852677Z"
    },
    "papermill": {
     "duration": 0.266671,
     "end_time": "2024-09-07T18:46:42.856354",
     "exception": false,
     "start_time": "2024-09-07T18:46:42.589683",
     "status": "completed"
    },
    "tags": []
   },
   "outputs": [
    {
     "data": {
      "image/png": "[encoded data removed]",
      "text/plain": [
       "<Figure size 640x480 with 1 Axes>"
      ]
     },
     "metadata": {},
     "output_type": "display_data"
    }
   ],
   "source": [
    "sns.countplot(data=data, x='Gender')\n",
    "plt.title(\"Count of Each Gender\")\n",
    "plt.xlabel(\"Gender\")\n",
    "plt.ylabel(\"Count\")\n",
    "plt.show()"
   ]
  },
  {
   "cell_type": "code",
   "execution_count": 33,
   "id": "0086c66d",
   "metadata": {
    "execution": {
     "iopub.execute_input": "2024-09-07T18:46:42.905284Z",
     "iopub.status.busy": "2024-09-07T18:46:42.904132Z",
     "iopub.status.idle": "2024-09-07T18:46:43.313404Z",
     "shell.execute_reply": "2024-09-07T18:46:43.312286Z"
    },
    "papermill": {
     "duration": 0.436506,
     "end_time": "2024-09-07T18:46:43.315976",
     "exception": false,
     "start_time": "2024-09-07T18:46:42.879470",
     "status": "completed"
    },
    "tags": []
   },
   "outputs": [
    {
     "data": {
      "image/png": "[encoded data removed]",
      "text/plain": [
       "<Figure size 640x480 with 1 Axes>"
      ]
     },
     "metadata": {},
     "output_type": "display_data"
    }
   ],
   "source": [
    "sns.boxplot(x='predicted_label', y='Age', data=data)\n",
    "plt.title(\"Age Distribution Across Clusters\")\n",
    "plt.xlabel(\"Cluster\")\n",
    "plt.ylabel(\"Age\")\n",
    "plt.show()\n"
   ]
  },
  {
   "cell_type": "code",
   "execution_count": 34,
   "id": "40735e08",
   "metadata": {
    "execution": {
     "iopub.execute_input": "2024-09-07T18:46:43.366153Z",
     "iopub.status.busy": "2024-09-07T18:46:43.365673Z",
     "iopub.status.idle": "2024-09-07T18:46:43.623484Z",
     "shell.execute_reply": "2024-09-07T18:46:43.622286Z"
    },
    "papermill": {
     "duration": 0.285635,
     "end_time": "2024-09-07T18:46:43.626107",
     "exception": false,
     "start_time": "2024-09-07T18:46:43.340472",
     "status": "completed"
    },
    "tags": []
   },
   "outputs": [
    {
     "data": {
      "image/png": "[encoded data removed]",
      "text/plain": [
       "<Figure size 640x480 with 1 Axes>"
      ]
     },
     "metadata": {},
     "output_type": "display_data"
    }
   ],
   "source": [
    "sns.boxplot(x='predicted_label', y='Annual Income (k$)', data=data)\n",
    "plt.title(\"Annual Income Distribution Across Clusters\")\n",
    "plt.xlabel(\"Cluster\")\n",
    "plt.ylabel(\"Annual Income (k$)\")\n",
    "plt.show()\n"
   ]
  },
  {
   "cell_type": "code",
   "execution_count": 35,
   "id": "bf372198",
   "metadata": {
    "execution": {
     "iopub.execute_input": "2024-09-07T18:46:43.724261Z",
     "iopub.status.busy": "2024-09-07T18:46:43.723753Z",
     "iopub.status.idle": "2024-09-07T18:46:43.924267Z",
     "shell.execute_reply": "2024-09-07T18:46:43.923045Z"
    },
    "papermill": {
     "duration": 0.228848,
     "end_time": "2024-09-07T18:46:43.927094",
     "exception": false,
     "start_time": "2024-09-07T18:46:43.698246",
     "status": "completed"
    },
    "tags": []
   },
   "outputs": [
    {
     "data": {
      "image/png": "[encoded data removed]",
      "text/plain": [
       "<Figure size 640x480 with 1 Axes>"
      ]
     },
     "metadata": {},
     "output_type": "display_data"
    }
   ],
   "source": [
    "sns.boxplot(x='Gender', y='Spending Score (1-100)', data=data)\n",
    "plt.title(\"Spending Score Distribution by Gender\")\n",
    "plt.xlabel(\"Gender\")\n",
    "plt.ylabel(\"Spending Score (1-100)\")\n",
    "plt.show()\n"
   ]
  }
 ],
 "metadata": {
  "kaggle": {
   "accelerator": "none",
   "dataSources": [
    {
     "datasetId": 42674,
     "sourceId": 74935,
     "sourceType": "datasetVersion"
    }
   ],
   "dockerImageVersionId": 30761,
   "isGpuEnabled": false,
   "isInternetEnabled": true,
   "language": "python",
   "sourceType": "notebook"
  },
  "kernelspec": {
   "display_name": "Python 3 (ipykernel)",
   "language": "python",
   "name": "python3"
  },
  "language_info": {
   "codemirror_mode": {
    "name": "ipython",
    "version": 3
   },
   "file_extension": ".py",
   "mimetype": "text/x-python",
   "name": "python",
   "nbconvert_exporter": "python",
   "pygments_lexer": "ipython3",
   "version": "3.9.13"
  },
  "papermill": {
   "default_parameters": {},
   "duration": 13.702262,
   "end_time": "2024-09-07T18:46:45.486342",
   "environment_variables": {},
   "exception": null,
   "input_path": "__notebook__.ipynb",
   "output_path": "__notebook__.ipynb",
   "parameters": {},
   "start_time": "2024-09-07T18:46:31.784080",
   "version": "2.6.0"
  }
 },
 "nbformat": 4,
 "nbformat_minor": 5
}
